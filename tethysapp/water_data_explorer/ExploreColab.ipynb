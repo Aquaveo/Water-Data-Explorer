{
  "nbformat": 4,
  "nbformat_minor": 0,
  "metadata": {
    "colab": {
      "name": "ExploreColab.ipynb",
      "provenance": [],
      "collapsed_sections": []
    },
    "kernelspec": {
      "name": "python3",
      "display_name": "Python 3"
    }
  },
  "cells": [
    {
      "cell_type": "code",
      "metadata": {
        "id": "b5O5d0xtxJ-O",
        "colab_type": "code",
        "colab": {}
      },
      "source": [
        "## DEFINE VARIABLES ##\n",
        "hs_url = \"http://hydroportal.cuahsi.org/para_la_naturaleza/cuahsi_1_1.asmx?WSDL\"\n",
        "hs_name = \"Para la Naturaleza\""
      ],
      "execution_count": null,
      "outputs": []
    },
    {
      "cell_type": "code",
      "metadata": {
        "id": "aKPQSMRcHNsy",
        "colab_type": "code",
        "colab": {
          "base_uri": "https://localhost:8080/",
          "height": 538
        },
        "outputId": "283dadd9-b22b-490d-dd1a-6dd69a149437"
      },
      "source": [
        "!pip install xmltodict\n",
        "!pip install pandas\n",
        "!pip install numpy\n",
        "!pip install owslib\n",
        "!pip install suds-py3\n",
        "!pip install folium"
      ],
      "execution_count": 10,
      "outputs": [
        {
          "output_type": "stream",
          "text": [
            "Requirement already satisfied: xmltodict in /usr/local/lib/python3.6/dist-packages (0.12.0)\n",
            "Requirement already satisfied: pandas in /usr/local/lib/python3.6/dist-packages (1.0.5)\n",
            "Requirement already satisfied: python-dateutil>=2.6.1 in /usr/local/lib/python3.6/dist-packages (from pandas) (2.8.1)\n",
            "Requirement already satisfied: pytz>=2017.2 in /usr/local/lib/python3.6/dist-packages (from pandas) (2018.9)\n",
            "Requirement already satisfied: numpy>=1.13.3 in /usr/local/lib/python3.6/dist-packages (from pandas) (1.18.5)\n",
            "Requirement already satisfied: six>=1.5 in /usr/local/lib/python3.6/dist-packages (from python-dateutil>=2.6.1->pandas) (1.15.0)\n",
            "Requirement already satisfied: numpy in /usr/local/lib/python3.6/dist-packages (1.18.5)\n",
            "Requirement already satisfied: owslib in /usr/local/lib/python3.6/dist-packages (0.20.0)\n",
            "Requirement already satisfied: python-dateutil>=1.5 in /usr/local/lib/python3.6/dist-packages (from owslib) (2.8.1)\n",
            "Requirement already satisfied: pyproj>=2 in /usr/local/lib/python3.6/dist-packages (from owslib) (2.6.1.post1)\n",
            "Requirement already satisfied: pyyaml in /usr/local/lib/python3.6/dist-packages (from owslib) (3.13)\n",
            "Requirement already satisfied: requests>=1.0 in /usr/local/lib/python3.6/dist-packages (from owslib) (2.23.0)\n",
            "Requirement already satisfied: pytz in /usr/local/lib/python3.6/dist-packages (from owslib) (2018.9)\n",
            "Requirement already satisfied: six>=1.5 in /usr/local/lib/python3.6/dist-packages (from python-dateutil>=1.5->owslib) (1.15.0)\n",
            "Requirement already satisfied: certifi>=2017.4.17 in /usr/local/lib/python3.6/dist-packages (from requests>=1.0->owslib) (2020.6.20)\n",
            "Requirement already satisfied: idna<3,>=2.5 in /usr/local/lib/python3.6/dist-packages (from requests>=1.0->owslib) (2.10)\n",
            "Requirement already satisfied: chardet<4,>=3.0.2 in /usr/local/lib/python3.6/dist-packages (from requests>=1.0->owslib) (3.0.4)\n",
            "Requirement already satisfied: urllib3!=1.25.0,!=1.25.1,<1.26,>=1.21.1 in /usr/local/lib/python3.6/dist-packages (from requests>=1.0->owslib) (1.24.3)\n",
            "Requirement already satisfied: suds-py3 in /usr/local/lib/python3.6/dist-packages (1.4.1.0)\n",
            "Requirement already satisfied: folium in /usr/local/lib/python3.6/dist-packages (0.8.3)\n",
            "Requirement already satisfied: six in /usr/local/lib/python3.6/dist-packages (from folium) (1.15.0)\n",
            "Requirement already satisfied: numpy in /usr/local/lib/python3.6/dist-packages (from folium) (1.18.5)\n",
            "Requirement already satisfied: branca>=0.3.0 in /usr/local/lib/python3.6/dist-packages (from folium) (0.4.1)\n",
            "Requirement already satisfied: requests in /usr/local/lib/python3.6/dist-packages (from folium) (2.23.0)\n",
            "Requirement already satisfied: jinja2 in /usr/local/lib/python3.6/dist-packages (from folium) (2.11.2)\n",
            "Requirement already satisfied: idna<3,>=2.5 in /usr/local/lib/python3.6/dist-packages (from requests->folium) (2.10)\n",
            "Requirement already satisfied: urllib3!=1.25.0,!=1.25.1,<1.26,>=1.21.1 in /usr/local/lib/python3.6/dist-packages (from requests->folium) (1.24.3)\n",
            "Requirement already satisfied: certifi>=2017.4.17 in /usr/local/lib/python3.6/dist-packages (from requests->folium) (2020.6.20)\n",
            "Requirement already satisfied: chardet<4,>=3.0.2 in /usr/local/lib/python3.6/dist-packages (from requests->folium) (3.0.4)\n",
            "Requirement already satisfied: MarkupSafe>=0.23 in /usr/local/lib/python3.6/dist-packages (from jinja2->folium) (1.1.1)\n"
          ],
          "name": "stdout"
        }
      ]
    },
    {
      "cell_type": "code",
      "metadata": {
        "id": "0pCqiHUCCq82",
        "colab_type": "code",
        "colab": {}
      },
      "source": [
        "##IMPORT THE DEPENDENCIES\n",
        "import xmltodict\n",
        "import json\n",
        "import pandas as pd\n",
        "import numpy as np\n",
        "import folium\n",
        "import xml.etree.ElementTree as ET\n",
        "from owslib.waterml.wml11 import WaterML_1_1 as wml11\n",
        "from suds.client import Client  # For parsing WaterML/XML\n",
        "from json import dumps, loads\n",
        "from datetime import datetime"
      ],
      "execution_count": 12,
      "outputs": []
    },
    {
      "cell_type": "code",
      "metadata": {
        "id": "oAV_SRM3E-al",
        "colab_type": "code",
        "colab": {}
      },
      "source": [
        "def parseJSON(json):\n",
        "    hs_sites = []\n",
        "    sites_object = None\n",
        "    # This is to handle the WMO la Plata endpoints ##\n",
        "\n",
        "    if \"Site\" in json:\n",
        "        sites_object = json['Site']\n",
        "        # If statement is executed for multiple sites within the HydroServer, if there is a single site then it goes to the else statement\n",
        "        # Parse through the HydroServer and each site with its metadata as a\n",
        "        # dictionary object to the hs_sites list\n",
        "        if type(sites_object) is list:\n",
        "            for site in sites_object:\n",
        "                hs_json = {}\n",
        "                latitude = site['Latitude']\n",
        "                longitude = site['Longitude']\n",
        "                site_name = site['SiteName']\n",
        "                site_name = site_name.encode(\"utf-8\")\n",
        "                network = site[\"servURL\"]\n",
        "                sitecode = site['SiteCode']\n",
        "\n",
        "                hs_json[\"sitename\"] = site_name.decode(\"UTF-8\")\n",
        "                hs_json[\"latitude\"] = latitude\n",
        "                hs_json[\"longitude\"] = longitude\n",
        "                hs_json[\"sitecode\"] = sitecode\n",
        "                hs_json[\"network\"] = network\n",
        "                hs_json[\"service\"] = \"SOAP\"\n",
        "                hs_sites.append(hs_json)\n",
        "        else:\n",
        "            hs_json = {}\n",
        "            latitude = site['Latitude']\n",
        "            longitude = site['Longitude']\n",
        "            site_name = site['SiteName']\n",
        "            site_name = site_name.encode(\"utf-8\")\n",
        "            network = site[\"servURL\"]\n",
        "            sitecode = site['SiteCode']\n",
        "\n",
        "            hs_json[\"sitename\"] = site_name.decode(\"UTF-8\")\n",
        "            hs_json[\"latitude\"] = latitude\n",
        "            hs_json[\"longitude\"] = longitude\n",
        "            hs_json[\"sitecode\"] = sitecode\n",
        "            hs_json[\"network\"] = network\n",
        "            hs_json[\"service\"] = \"SOAP\"\n",
        "            hs_sites.append(hs_json)\n",
        "\n",
        "    if \"sitesResponse\" in json:\n",
        "        sites_object = json['sitesResponse']['site']\n",
        "\n",
        "        # If statement is executed for multiple sites within the HydroServer, if there is a single site then it goes to the else statement\n",
        "        # Parse through the HydroServer and each site with its metadata as a\n",
        "        # dictionary object to the hs_sites list\n",
        "        if type(sites_object) is list:\n",
        "            for site in sites_object:\n",
        "                hs_json = {}\n",
        "                latitude = site['siteInfo']['geoLocation'][\n",
        "                    'geogLocation']['latitude']\n",
        "                longitude = site['siteInfo']['geoLocation'][\n",
        "                    'geogLocation']['longitude']\n",
        "                site_name = site['siteInfo']['siteName']\n",
        "                site_name = site_name.encode(\"utf-8\")\n",
        "                network = site['siteInfo']['siteCode'][\"@network\"]\n",
        "                sitecode = site['siteInfo']['siteCode'][\"#text\"]\n",
        "\n",
        "                hs_json[\"sitename\"] = site_name.decode(\"UTF-8\")\n",
        "                hs_json[\"latitude\"] = latitude\n",
        "                hs_json[\"longitude\"] = longitude\n",
        "                hs_json[\"sitecode\"] = sitecode\n",
        "                hs_json[\"network\"] = network\n",
        "                hs_json[\"service\"] = \"SOAP\"\n",
        "                hs_sites.append(hs_json)\n",
        "        else:\n",
        "            hs_json = {}\n",
        "            latitude = sites_object['siteInfo'][\n",
        "                'geoLocation']['geogLocation']['latitude']\n",
        "            longitude = sites_object['siteInfo'][\n",
        "                'geoLocation']['geogLocation']['longitude']\n",
        "            site_name = sites_object['siteInfo']['siteName']\n",
        "            site_name = site_name.encode(\"utf-8\")\n",
        "            network = sites_object['siteInfo']['siteCode'][\"@network\"]\n",
        "            sitecode = sites_object['siteInfo']['siteCode'][\"#text\"]\n",
        "\n",
        "            hs_json[\"sitename\"] = site_name.decode(\"UTF-8\")\n",
        "            hs_json[\"latitude\"] = latitude\n",
        "            hs_json[\"longitude\"] = longitude\n",
        "            hs_json[\"sitecode\"] = sitecode\n",
        "            hs_json[\"network\"] = network\n",
        "            hs_json[\"service\"] = \"SOAP\"\n",
        "            hs_sites.append(hs_json)\n",
        "\n",
        "    return hs_sites\n",
        "\n",
        "\n",
        "def add_hs(url):\n",
        "    return_obj = {}\n",
        "    client = Client(url, timeout= 500)\n",
        "    # True Extent is on and necessary if the user is trying to add USGS or\n",
        "    # Get a list of all the sites and their respective lat lon.\n",
        "    sites = client.service.GetSites('[:]')\n",
        "    sites_json={}\n",
        "    if isinstance(sites, str):\n",
        "        print(\"here\")\n",
        "        sites_dict = xmltodict.parse(sites)\n",
        "        sites_json_object = json.dumps(sites_dict)\n",
        "        sites_json = json.loads(sites_json_object)\n",
        "    else:\n",
        "        sites_json_object = suds_to_json(sites)\n",
        "        sites_json = json.loads(sites_json_object)\n",
        "\n",
        "    sites_object = parseJSON(sites_json)\n",
        " \n",
        "    return_obj['siteInfo'] = sites_object\n",
        "    return return_obj\n",
        "\n",
        "def get_lats_lngs(objSites):\n",
        "    sites = objSites['siteInfo']\n",
        "    sitesLoc = []\n",
        "    names = []\n",
        "    print(sites)\n",
        "    for site in sites:\n",
        "      print(site)\n",
        "      sitesLoc.append([float(site['latitude']) , float(site['longitude'])])\n",
        "      names.append(site['sitename'])\n",
        "    return [sitesLoc,names]\n"
      ],
      "execution_count": 47,
      "outputs": []
    },
    {
      "cell_type": "code",
      "metadata": {
        "id": "vj06tE8DGvhh",
        "colab_type": "code",
        "colab": {
          "base_uri": "https://localhost:8080/",
          "height": 141
        },
        "outputId": "b79d044e-9474-47a6-b215-10abf7fbe434"
      },
      "source": [
        "sitesResponse = add_hs(hs_url)\n",
        "print(sites)\n",
        "sitesLocations,sitesNames = get_lats_lngs(sitesResponse)\n"
      ],
      "execution_count": 48,
      "outputs": [
        {
          "output_type": "stream",
          "text": [
            "here\n",
            "{'siteInfo': '[{\"sitename\": \"R\\\\u00edo Toro Negro\", \"latitude\": \"18.28559\", \"longitude\": \"-66.4903\", \"sitecode\": \"Rio_Toro_Negro\", \"network\": \"Para_La_Naturaleza\", \"service\": \"SOAP\"}, {\"sitename\": \"Quebrada Batista\", \"latitude\": \"18.19699\", \"longitude\": \"-66.32992\", \"sitecode\": \"Quebrada_Batista\", \"network\": \"Para_La_Naturaleza\", \"service\": \"SOAP\"}, {\"sitename\": \"R\\\\u00edo Grande de Manat\\\\u00ed\", \"latitude\": \"18.2144\", \"longitude\": \"-66.28665\", \"sitecode\": \"Rio_Grande_de_Manati\", \"network\": \"Para_La_Naturaleza\", \"service\": \"SOAP\"}]'}\n",
            "[{'sitename': 'Río Toro Negro', 'latitude': '18.28559', 'longitude': '-66.4903', 'sitecode': 'Rio_Toro_Negro', 'network': 'Para_La_Naturaleza', 'service': 'SOAP'}, {'sitename': 'Quebrada Batista', 'latitude': '18.19699', 'longitude': '-66.32992', 'sitecode': 'Quebrada_Batista', 'network': 'Para_La_Naturaleza', 'service': 'SOAP'}, {'sitename': 'Río Grande de Manatí', 'latitude': '18.2144', 'longitude': '-66.28665', 'sitecode': 'Rio_Grande_de_Manati', 'network': 'Para_La_Naturaleza', 'service': 'SOAP'}]\n",
            "{'sitename': 'Río Toro Negro', 'latitude': '18.28559', 'longitude': '-66.4903', 'sitecode': 'Rio_Toro_Negro', 'network': 'Para_La_Naturaleza', 'service': 'SOAP'}\n",
            "{'sitename': 'Quebrada Batista', 'latitude': '18.19699', 'longitude': '-66.32992', 'sitecode': 'Quebrada_Batista', 'network': 'Para_La_Naturaleza', 'service': 'SOAP'}\n",
            "{'sitename': 'Río Grande de Manatí', 'latitude': '18.2144', 'longitude': '-66.28665', 'sitecode': 'Rio_Grande_de_Manati', 'network': 'Para_La_Naturaleza', 'service': 'SOAP'}\n"
          ],
          "name": "stdout"
        }
      ]
    },
    {
      "cell_type": "code",
      "metadata": {
        "id": "BR7KNWzsNHGB",
        "colab_type": "code",
        "colab": {
          "base_uri": "https://localhost:8080/",
          "height": 1000
        },
        "outputId": "10f87b48-0377-4977-fd3e-d1dd023367f5"
      },
      "source": [
        "# Create a map using Stamen Terrain, centered on Boulder, CO\n",
        "m = folium.Map(height=800,location=[40.0150, -105.2705], \n",
        "              tiles = 'Stamen Terrain')\n",
        "\n",
        "# Add marker for Boulder, CO\n",
        "print(sitesLocations)\n",
        "for ind in range(len(sitesLocations)):\n",
        "  folium.Marker(\n",
        "      location= sitesLocations[ind], # coordinates for the marker (Earth Lab at CU Boulder)\n",
        "      popup= sitesNames[ind], # pop-up label for the marker\n",
        "      icon=folium.Icon()\n",
        "  ).add_to(m)\n",
        "\n",
        "# Display m\n",
        "m.fit_bounds(sitesLocations)\n",
        "m"
      ],
      "execution_count": 55,
      "outputs": [
        {
          "output_type": "stream",
          "text": [
            "[[18.28559, -66.4903], [18.19699, -66.32992], [18.2144, -66.28665]]\n"
          ],
          "name": "stdout"
        },
        {
          "output_type": "execute_result",
          "data": {
            "text/html": [
              "<div style=\"width:100%;\"><div style=\"position:relative;width:100%;height:0;padding-bottom:60%;\"><span style=\"color:#565656\">Make this Notebook Trusted to load map: File -> Trust Notebook</span><iframe src=\"about:blank\" style=\"position:absolute;width:100%;height:100%;left:0;top:0;border:none !important;\" data-html=PCFET0NUWVBFIGh0bWw+CjxoZWFkPiAgICAKICAgIDxtZXRhIGh0dHAtZXF1aXY9ImNvbnRlbnQtdHlwZSIgY29udGVudD0idGV4dC9odG1sOyBjaGFyc2V0PVVURi04IiAvPgogICAgPHNjcmlwdD5MX1BSRUZFUl9DQU5WQVM9ZmFsc2U7IExfTk9fVE9VQ0g9ZmFsc2U7IExfRElTQUJMRV8zRD1mYWxzZTs8L3NjcmlwdD4KICAgIDxzY3JpcHQgc3JjPSJodHRwczovL2Nkbi5qc2RlbGl2ci5uZXQvbnBtL2xlYWZsZXRAMS40LjAvZGlzdC9sZWFmbGV0LmpzIj48L3NjcmlwdD4KICAgIDxzY3JpcHQgc3JjPSJodHRwczovL2NvZGUuanF1ZXJ5LmNvbS9qcXVlcnktMS4xMi40Lm1pbi5qcyI+PC9zY3JpcHQ+CiAgICA8c2NyaXB0IHNyYz0iaHR0cHM6Ly9tYXhjZG4uYm9vdHN0cmFwY2RuLmNvbS9ib290c3RyYXAvMy4yLjAvanMvYm9vdHN0cmFwLm1pbi5qcyI+PC9zY3JpcHQ+CiAgICA8c2NyaXB0IHNyYz0iaHR0cHM6Ly9jZG5qcy5jbG91ZGZsYXJlLmNvbS9hamF4L2xpYnMvTGVhZmxldC5hd2Vzb21lLW1hcmtlcnMvMi4wLjIvbGVhZmxldC5hd2Vzb21lLW1hcmtlcnMuanMiPjwvc2NyaXB0PgogICAgPGxpbmsgcmVsPSJzdHlsZXNoZWV0IiBocmVmPSJodHRwczovL2Nkbi5qc2RlbGl2ci5uZXQvbnBtL2xlYWZsZXRAMS40LjAvZGlzdC9sZWFmbGV0LmNzcyIvPgogICAgPGxpbmsgcmVsPSJzdHlsZXNoZWV0IiBocmVmPSJodHRwczovL21heGNkbi5ib290c3RyYXBjZG4uY29tL2Jvb3RzdHJhcC8zLjIuMC9jc3MvYm9vdHN0cmFwLm1pbi5jc3MiLz4KICAgIDxsaW5rIHJlbD0ic3R5bGVzaGVldCIgaHJlZj0iaHR0cHM6Ly9tYXhjZG4uYm9vdHN0cmFwY2RuLmNvbS9ib290c3RyYXAvMy4yLjAvY3NzL2Jvb3RzdHJhcC10aGVtZS5taW4uY3NzIi8+CiAgICA8bGluayByZWw9InN0eWxlc2hlZXQiIGhyZWY9Imh0dHBzOi8vbWF4Y2RuLmJvb3RzdHJhcGNkbi5jb20vZm9udC1hd2Vzb21lLzQuNi4zL2Nzcy9mb250LWF3ZXNvbWUubWluLmNzcyIvPgogICAgPGxpbmsgcmVsPSJzdHlsZXNoZWV0IiBocmVmPSJodHRwczovL2NkbmpzLmNsb3VkZmxhcmUuY29tL2FqYXgvbGlicy9MZWFmbGV0LmF3ZXNvbWUtbWFya2Vycy8yLjAuMi9sZWFmbGV0LmF3ZXNvbWUtbWFya2Vycy5jc3MiLz4KICAgIDxsaW5rIHJlbD0ic3R5bGVzaGVldCIgaHJlZj0iaHR0cHM6Ly9yYXdjZG4uZ2l0aGFjay5jb20vcHl0aG9uLXZpc3VhbGl6YXRpb24vZm9saXVtL21hc3Rlci9mb2xpdW0vdGVtcGxhdGVzL2xlYWZsZXQuYXdlc29tZS5yb3RhdGUuY3NzIi8+CiAgICA8c3R5bGU+aHRtbCwgYm9keSB7d2lkdGg6IDEwMCU7aGVpZ2h0OiAxMDAlO21hcmdpbjogMDtwYWRkaW5nOiAwO308L3N0eWxlPgogICAgPHN0eWxlPiNtYXAge3Bvc2l0aW9uOmFic29sdXRlO3RvcDowO2JvdHRvbTowO3JpZ2h0OjA7bGVmdDowO308L3N0eWxlPgogICAgCiAgICA8bWV0YSBuYW1lPSJ2aWV3cG9ydCIgY29udGVudD0id2lkdGg9ZGV2aWNlLXdpZHRoLAogICAgICAgIGluaXRpYWwtc2NhbGU9MS4wLCBtYXhpbXVtLXNjYWxlPTEuMCwgdXNlci1zY2FsYWJsZT1ubyIgLz4KICAgIDxzdHlsZT4jbWFwX2I1MTQxMjlhZTZmYzRmOWI5MTY4Mzg3ZTY3YWY1MjM1IHsKICAgICAgICBwb3NpdGlvbjogcmVsYXRpdmU7CiAgICAgICAgd2lkdGg6IDEwMC4wJTsKICAgICAgICBoZWlnaHQ6IDgwMC4wcHg7CiAgICAgICAgbGVmdDogMC4wJTsKICAgICAgICB0b3A6IDAuMCU7CiAgICAgICAgfQogICAgPC9zdHlsZT4KPC9oZWFkPgo8Ym9keT4gICAgCiAgICAKICAgIDxkaXYgY2xhc3M9ImZvbGl1bS1tYXAiIGlkPSJtYXBfYjUxNDEyOWFlNmZjNGY5YjkxNjgzODdlNjdhZjUyMzUiID48L2Rpdj4KPC9ib2R5Pgo8c2NyaXB0PiAgICAKICAgIAogICAgCiAgICAgICAgdmFyIGJvdW5kcyA9IG51bGw7CiAgICAKCiAgICB2YXIgbWFwX2I1MTQxMjlhZTZmYzRmOWI5MTY4Mzg3ZTY3YWY1MjM1ID0gTC5tYXAoCiAgICAgICAgJ21hcF9iNTE0MTI5YWU2ZmM0ZjliOTE2ODM4N2U2N2FmNTIzNScsIHsKICAgICAgICBjZW50ZXI6IFs0MC4wMTUsIC0xMDUuMjcwNV0sCiAgICAgICAgem9vbTogMTAsCiAgICAgICAgbWF4Qm91bmRzOiBib3VuZHMsCiAgICAgICAgbGF5ZXJzOiBbXSwKICAgICAgICB3b3JsZENvcHlKdW1wOiBmYWxzZSwKICAgICAgICBjcnM6IEwuQ1JTLkVQU0czODU3LAogICAgICAgIHpvb21Db250cm9sOiB0cnVlLAogICAgICAgIH0pOwoKCiAgICAKICAgIHZhciB0aWxlX2xheWVyX2E5Y2M4ZDljODZhMzRmZWJhMjhkZTBhZTExNzU1ZGMzID0gTC50aWxlTGF5ZXIoCiAgICAgICAgJ2h0dHBzOi8vc3RhbWVuLXRpbGVzLXtzfS5hLnNzbC5mYXN0bHkubmV0L3RlcnJhaW4ve3p9L3t4fS97eX0uanBnJywKICAgICAgICB7CiAgICAgICAgImF0dHJpYnV0aW9uIjogbnVsbCwKICAgICAgICAiZGV0ZWN0UmV0aW5hIjogZmFsc2UsCiAgICAgICAgIm1heE5hdGl2ZVpvb20iOiAxOCwKICAgICAgICAibWF4Wm9vbSI6IDE4LAogICAgICAgICJtaW5ab29tIjogMCwKICAgICAgICAibm9XcmFwIjogZmFsc2UsCiAgICAgICAgIm9wYWNpdHkiOiAxLAogICAgICAgICJzdWJkb21haW5zIjogImFiYyIsCiAgICAgICAgInRtcyI6IGZhbHNlCn0pLmFkZFRvKG1hcF9iNTE0MTI5YWU2ZmM0ZjliOTE2ODM4N2U2N2FmNTIzNSk7CiAgICAKICAgICAgICB2YXIgbWFya2VyXzU3YTU4MzQzMDY0MTRiYmZhNGZhMTExYWY1NTFkNTc1ID0gTC5tYXJrZXIoCiAgICAgICAgICAgIFsxOC4yODU1OSwgLTY2LjQ5MDNdLAogICAgICAgICAgICB7CiAgICAgICAgICAgICAgICBpY29uOiBuZXcgTC5JY29uLkRlZmF1bHQoKSwKICAgICAgICAgICAgICAgIH0KICAgICAgICAgICAgKS5hZGRUbyhtYXBfYjUxNDEyOWFlNmZjNGY5YjkxNjgzODdlNjdhZjUyMzUpOwogICAgICAgIAogICAgCgogICAgICAgICAgICAgICAgdmFyIGljb25fMzAwN2Q4YzdhMDMyNGRiYThhNTNmZDFmMDU3OWQ3NDcgPSBMLkF3ZXNvbWVNYXJrZXJzLmljb24oewogICAgICAgICAgICAgICAgICAgIGljb246ICdpbmZvLXNpZ24nLAogICAgICAgICAgICAgICAgICAgIGljb25Db2xvcjogJ3doaXRlJywKICAgICAgICAgICAgICAgICAgICBtYXJrZXJDb2xvcjogJ2JsdWUnLAogICAgICAgICAgICAgICAgICAgIHByZWZpeDogJ2dseXBoaWNvbicsCiAgICAgICAgICAgICAgICAgICAgZXh0cmFDbGFzc2VzOiAnZmEtcm90YXRlLTAnCiAgICAgICAgICAgICAgICAgICAgfSk7CiAgICAgICAgICAgICAgICBtYXJrZXJfNTdhNTgzNDMwNjQxNGJiZmE0ZmExMTFhZjU1MWQ1NzUuc2V0SWNvbihpY29uXzMwMDdkOGM3YTAzMjRkYmE4YTUzZmQxZjA1NzlkNzQ3KTsKICAgICAgICAgICAgCiAgICAKICAgICAgICAgICAgdmFyIHBvcHVwX2M0OTA2Y2JkZGM4YjQ1YWRhYzM0MTVjMGJkZTZiYzYxID0gTC5wb3B1cCh7bWF4V2lkdGg6ICcxMDAlJwogICAgICAgICAgICAKICAgICAgICAgICAgfSk7CgogICAgICAgICAgICAKICAgICAgICAgICAgICAgIHZhciBodG1sX2JhNDY0ODBhNGIyOTRkMjc4ZmJiZWQ4NDZhNzZkYzUwID0gJChgPGRpdiBpZD0iaHRtbF9iYTQ2NDgwYTRiMjk0ZDI3OGZiYmVkODQ2YTc2ZGM1MCIgc3R5bGU9IndpZHRoOiAxMDAuMCU7IGhlaWdodDogMTAwLjAlOyI+UsOtbyBUb3JvIE5lZ3JvPC9kaXY+YClbMF07CiAgICAgICAgICAgICAgICBwb3B1cF9jNDkwNmNiZGRjOGI0NWFkYWMzNDE1YzBiZGU2YmM2MS5zZXRDb250ZW50KGh0bWxfYmE0NjQ4MGE0YjI5NGQyNzhmYmJlZDg0NmE3NmRjNTApOwogICAgICAgICAgICAKCiAgICAgICAgICAgIG1hcmtlcl81N2E1ODM0MzA2NDE0YmJmYTRmYTExMWFmNTUxZDU3NS5iaW5kUG9wdXAocG9wdXBfYzQ5MDZjYmRkYzhiNDVhZGFjMzQxNWMwYmRlNmJjNjEpCiAgICAgICAgICAgIDsKCiAgICAgICAgICAgIAogICAgICAgIAogICAgCiAgICAgICAgdmFyIG1hcmtlcl81YmM5NThiM2RiZTc0YTc2OThlZTZjYmRkMzQzZjFmOSA9IEwubWFya2VyKAogICAgICAgICAgICBbMTguMTk2OTksIC02Ni4zMjk5Ml0sCiAgICAgICAgICAgIHsKICAgICAgICAgICAgICAgIGljb246IG5ldyBMLkljb24uRGVmYXVsdCgpLAogICAgICAgICAgICAgICAgfQogICAgICAgICAgICApLmFkZFRvKG1hcF9iNTE0MTI5YWU2ZmM0ZjliOTE2ODM4N2U2N2FmNTIzNSk7CiAgICAgICAgCiAgICAKCiAgICAgICAgICAgICAgICB2YXIgaWNvbl81OTlmYWNiY2Y0Y2U0OTE2ODhiYWZkNDY4MjQzN2QzOSA9IEwuQXdlc29tZU1hcmtlcnMuaWNvbih7CiAgICAgICAgICAgICAgICAgICAgaWNvbjogJ2luZm8tc2lnbicsCiAgICAgICAgICAgICAgICAgICAgaWNvbkNvbG9yOiAnd2hpdGUnLAogICAgICAgICAgICAgICAgICAgIG1hcmtlckNvbG9yOiAnYmx1ZScsCiAgICAgICAgICAgICAgICAgICAgcHJlZml4OiAnZ2x5cGhpY29uJywKICAgICAgICAgICAgICAgICAgICBleHRyYUNsYXNzZXM6ICdmYS1yb3RhdGUtMCcKICAgICAgICAgICAgICAgICAgICB9KTsKICAgICAgICAgICAgICAgIG1hcmtlcl81YmM5NThiM2RiZTc0YTc2OThlZTZjYmRkMzQzZjFmOS5zZXRJY29uKGljb25fNTk5ZmFjYmNmNGNlNDkxNjg4YmFmZDQ2ODI0MzdkMzkpOwogICAgICAgICAgICAKICAgIAogICAgICAgICAgICB2YXIgcG9wdXBfOTVlZDliZGVjYjMyNDNhMDk2OTJkOGUxMTVlMTI1ZWQgPSBMLnBvcHVwKHttYXhXaWR0aDogJzEwMCUnCiAgICAgICAgICAgIAogICAgICAgICAgICB9KTsKCiAgICAgICAgICAgIAogICAgICAgICAgICAgICAgdmFyIGh0bWxfOTY3YmI4Zjg0ZDE4NGMzNmE5ZTI4MGZmZTRjNjcyYmMgPSAkKGA8ZGl2IGlkPSJodG1sXzk2N2JiOGY4NGQxODRjMzZhOWUyODBmZmU0YzY3MmJjIiBzdHlsZT0id2lkdGg6IDEwMC4wJTsgaGVpZ2h0OiAxMDAuMCU7Ij5RdWVicmFkYSBCYXRpc3RhPC9kaXY+YClbMF07CiAgICAgICAgICAgICAgICBwb3B1cF85NWVkOWJkZWNiMzI0M2EwOTY5MmQ4ZTExNWUxMjVlZC5zZXRDb250ZW50KGh0bWxfOTY3YmI4Zjg0ZDE4NGMzNmE5ZTI4MGZmZTRjNjcyYmMpOwogICAgICAgICAgICAKCiAgICAgICAgICAgIG1hcmtlcl81YmM5NThiM2RiZTc0YTc2OThlZTZjYmRkMzQzZjFmOS5iaW5kUG9wdXAocG9wdXBfOTVlZDliZGVjYjMyNDNhMDk2OTJkOGUxMTVlMTI1ZWQpCiAgICAgICAgICAgIDsKCiAgICAgICAgICAgIAogICAgICAgIAogICAgCiAgICAgICAgdmFyIG1hcmtlcl82M2U1ZjY4OTEwY2I0YmNjODM0MDBlNDI0MjIzZjc5YyA9IEwubWFya2VyKAogICAgICAgICAgICBbMTguMjE0NCwgLTY2LjI4NjY1XSwKICAgICAgICAgICAgewogICAgICAgICAgICAgICAgaWNvbjogbmV3IEwuSWNvbi5EZWZhdWx0KCksCiAgICAgICAgICAgICAgICB9CiAgICAgICAgICAgICkuYWRkVG8obWFwX2I1MTQxMjlhZTZmYzRmOWI5MTY4Mzg3ZTY3YWY1MjM1KTsKICAgICAgICAKICAgIAoKICAgICAgICAgICAgICAgIHZhciBpY29uXzRkNTc5Yzc5NmI3NDRkMTI4ZTdkMjEwZDFkMTgwYzZlID0gTC5Bd2Vzb21lTWFya2Vycy5pY29uKHsKICAgICAgICAgICAgICAgICAgICBpY29uOiAnaW5mby1zaWduJywKICAgICAgICAgICAgICAgICAgICBpY29uQ29sb3I6ICd3aGl0ZScsCiAgICAgICAgICAgICAgICAgICAgbWFya2VyQ29sb3I6ICdibHVlJywKICAgICAgICAgICAgICAgICAgICBwcmVmaXg6ICdnbHlwaGljb24nLAogICAgICAgICAgICAgICAgICAgIGV4dHJhQ2xhc3NlczogJ2ZhLXJvdGF0ZS0wJwogICAgICAgICAgICAgICAgICAgIH0pOwogICAgICAgICAgICAgICAgbWFya2VyXzYzZTVmNjg5MTBjYjRiY2M4MzQwMGU0MjQyMjNmNzljLnNldEljb24oaWNvbl80ZDU3OWM3OTZiNzQ0ZDEyOGU3ZDIxMGQxZDE4MGM2ZSk7CiAgICAgICAgICAgIAogICAgCiAgICAgICAgICAgIHZhciBwb3B1cF82ODYyYmEzOTJlZmM0ZWUzYmNmYmM1N2ZlNzJlYjllNiA9IEwucG9wdXAoe21heFdpZHRoOiAnMTAwJScKICAgICAgICAgICAgCiAgICAgICAgICAgIH0pOwoKICAgICAgICAgICAgCiAgICAgICAgICAgICAgICB2YXIgaHRtbF9iN2M3MWUwYmU0Yjc0Y2U5YmU1MzJlYmM5NGNiNzg5MCA9ICQoYDxkaXYgaWQ9Imh0bWxfYjdjNzFlMGJlNGI3NGNlOWJlNTMyZWJjOTRjYjc4OTAiIHN0eWxlPSJ3aWR0aDogMTAwLjAlOyBoZWlnaHQ6IDEwMC4wJTsiPlLDrW8gR3JhbmRlIGRlIE1hbmF0w608L2Rpdj5gKVswXTsKICAgICAgICAgICAgICAgIHBvcHVwXzY4NjJiYTM5MmVmYzRlZTNiY2ZiYzU3ZmU3MmViOWU2LnNldENvbnRlbnQoaHRtbF9iN2M3MWUwYmU0Yjc0Y2U5YmU1MzJlYmM5NGNiNzg5MCk7CiAgICAgICAgICAgIAoKICAgICAgICAgICAgbWFya2VyXzYzZTVmNjg5MTBjYjRiY2M4MzQwMGU0MjQyMjNmNzljLmJpbmRQb3B1cChwb3B1cF82ODYyYmEzOTJlZmM0ZWUzYmNmYmM1N2ZlNzJlYjllNikKICAgICAgICAgICAgOwoKICAgICAgICAgICAgCiAgICAgICAgCiAgICAKICAgICAgICAgICAgICAgIAoKICAgICAgICAgICAgICAgIG1hcF9iNTE0MTI5YWU2ZmM0ZjliOTE2ODM4N2U2N2FmNTIzNS5maXRCb3VuZHMoCiAgICAgICAgICAgICAgICAgICAgW1sxOC4yODU1OSwgLTY2LjQ5MDNdLCBbMTguMTk2OTksIC02Ni4zMjk5Ml0sIFsxOC4yMTQ0LCAtNjYuMjg2NjVdXSwKICAgICAgICAgICAgICAgICAgICB7fQogICAgICAgICAgICAgICAgICAgICk7CiAgICAgICAgICAgIAo8L3NjcmlwdD4= onload=\"this.contentDocument.open();this.contentDocument.write(atob(this.getAttribute('data-html')));this.contentDocument.close();\" allowfullscreen webkitallowfullscreen mozallowfullscreen></iframe></div></div>"
            ],
            "text/plain": [
              "<folium.folium.Map at 0x7fd498203828>"
            ]
          },
          "metadata": {
            "tags": []
          },
          "execution_count": 55
        }
      ]
    },
    {
      "cell_type": "code",
      "metadata": {
        "id": "0bPfXvzJKWP3",
        "colab_type": "code",
        "colab": {}
      },
      "source": [
        ""
      ],
      "execution_count": null,
      "outputs": []
    }
  ]
}